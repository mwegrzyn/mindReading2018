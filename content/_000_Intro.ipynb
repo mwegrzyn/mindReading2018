{
 "cells": [
  {
   "cell_type": "markdown",
   "metadata": {},
   "source": [
    "Man kann die Gedanken einer anderen Person lesen, indem man sie in eine große magnetische Röhre legt. Dabei kommen Bilder heraus, die zunächst alle irgendwie gleich aussehen. Wie man aus diesen Bildern bunte Karten mit Hirnaktivität macht, und die Karten dann benutzen kann um Gedanken zu lesen, werden wir dieses Semester lernen."
   ]
  },
  {
   "cell_type": "markdown",
   "metadata": {},
   "source": [
    "### 1. Vom Gedanken zur Karte\n",
    "\n",
    "Zum einen können wir versuchen, Bilder davon zu erstellen, wie das Gehirn aussieht, wenn eine Person an etwas Bestimmtes denkt. Dazu müssen wir herausfinden, wie wir aus den nichtssagenden Bildern die die Röhre produziert, Bilder machen können die Aktivierungen an bestimmten Stellen im Gehirn zeigen. Es hilft sicherlich, etwas darüber zu wissen, wie bestimmte Gedanken wohl im Gehirn repräsentiert sein könnten, also welche Muster von Aktivierung plausibel sind und nach welchen Mustern wir gucken sollten, wenn wir den einen oder den anderen Gedanken identifizieren wollen. Für sehr allgemeine Kategorien, wie Motorik oder Sprache, sollten wir nach eher großen und verteilten Klecksen von Aktivierung gucken. Das heißt, in dem Fall sollten wir einen Schritt zurück treten und das Gehirn eher wie eine Landkarte betrachten und die Lappen des Gehirns als Kontinente, mit einzelnen Hirnregionen als Länder."
   ]
  },
  {
   "cell_type": "markdown",
   "metadata": {},
   "source": [
    "![](https://images.duckduckgo.com/iu/?u=http%3A%2F%2Fgallantlab.org%2Fwp-content%2Fuploads%2F2016%2F04%2FBilenko.Map_.jpg&f=1)"
   ]
  },
  {
   "cell_type": "markdown",
   "metadata": {},
   "source": [
    "### 2. Von der Karte zum Gedanken\n",
    "\n",
    "\n",
    "Land- oder Seekarten haben einen Zweck. Sie können einem helfen zu navigieren. Genauso können wir Hirnkarten benutzen, um aus ihnen abzulesen was eine Person gedacht hat, als die Bilder von ihrem Gehirn aufgenommen wurden."
   ]
  },
  {
   "cell_type": "code",
   "execution_count": 1,
   "metadata": {},
   "outputs": [
    {
     "data": {
      "text/html": [
       "\n",
       "<iframe width=\"560\" height=\"315\" src=\"https://www.youtube-nocookie.com/embed/z8iEogscUl8?rel=0\" frameborder=\"0\" allow=\"autoplay; encrypted-media\" allowfullscreen></iframe>"
      ],
      "text/plain": [
       "<IPython.core.display.HTML object>"
      ]
     },
     "metadata": {},
     "output_type": "display_data"
    }
   ],
   "source": [
    "%%HTML \n",
    "\n",
    "<iframe width=\"560\" height=\"315\" src=\"https://www.youtube-nocookie.com/embed/z8iEogscUl8?rel=0\" frameborder=\"0\" allow=\"autoplay; encrypted-media\" allowfullscreen></iframe>"
   ]
  },
  {
   "cell_type": "markdown",
   "metadata": {},
   "source": [
    "### 3. Rezepte zum Gedankenlesen"
   ]
  },
  {
   "cell_type": "markdown",
   "metadata": {},
   "source": [
    "Dieses Semester lernen wir ein paar einfache Ansätze, mit denen wir Hirnkarten erstellen und Gedanken lesen können. Viele dieser Ansätze sind bewusst unelegant und umständlich umgesetzt. Sie haben aber den Vorteil, dass man sie ohne Vorkenntnisse verstehen kann und dass sie tatsächlich sehr gut funktionieren.\n",
    "\n",
    "Die Ansätze betonen immer Transparenz und Visualsierbarkeit. In der Regel versuchen wir nicht, die Daten auszuwerten, sondern zu transformieren. Eine Transformation könnte sein, Datenpunkt X und Datenpunkt Y voneinander zu subtrahieren. Die Differenz zwischen zwei Datenpunkten ist sehr hilfreich, weil sie ein Ähnlichkeitsmaß darstellt (kleine Differenz = ähnlich; große (absolute) Differenz = unähnlich). Wenn wir solche Transformationen als Hirnbilder visualisieren, können wir oft mit eigenen Augen sehen, welche Regionen für welchen Prozess wichtig sind (z.B. wo tut sich mehr wenn jemand an ein Gesicht denkt, als wenn jemand an ein Wort denkt).\n",
    "\n",
    "Die Ansätze die wir verwenden wollen sind eher wie Rezepte zu verstehen und wir bewerten sie vor allem danach, wie gut sie funktionieren und nicht danach, ob sie theoretisch sauber sind (sie funktionieren, aber nur in der Praxis). Wenn das hier ein Kochkurs wäre, würden wir also wenig über die Eigenschaften von Mehl, Butter oder Hefe lernen, sondern einfach den Kuchen backen."
   ]
  },
  {
   "cell_type": "markdown",
   "metadata": {},
   "source": [
    "### 4. Überblick über unsere Ziele"
   ]
  },
  {
   "cell_type": "markdown",
   "metadata": {},
   "source": [
    "Die wichtigsten Fragen denen wir bei unserem Vorgehen begegnen werden, sind die folgenden:\n",
    "\n",
    "- Wie können wir Hirnkarten erstellen (**Enkodieren** von kognitiven Prozessen in Hirnaktivität)?\n",
    "- Wie können wir Hirnkarten lesen (**Dekodieren** von Hirnaktivität in kognitive Prozesse)?\n",
    "- Was lernen wir aus der **visuellen Inspektion** von Daten?\n",
    "- Wie können wir ausdrücken, wie ähnlich oder unähnlich sich zwei Hirnkarten sind (**Ähnlichkeitsmaße**)?\n",
    "- Wie können wir Hirnkarten in bestimmte Gruppen (z.B. die Gruppe \"Denken an Wörter) einteilen (**Klassifikation**)?\n",
    "- Welche Eigenschaften der Bilder sind besonders wichtig, welche sind uninteressant (**Feature Selection**)?\n",
    "- Wie können wir unsere Fähigkeit Gedanken zu lesen verbessern (**Training**)?\n",
    "- Wie können wir unsere Fähigkeit Gedanken zu lesen unter Beweis stellen (**Test**)?"
   ]
  },
  {
   "cell_type": "markdown",
   "metadata": {},
   "source": [
    "### 5. Unsere Daten\n",
    "\n",
    "Unser Datensatz besteht aus 5 Bedingungen (denken an: Wörter, Gesichter, emotionale Orte, Bewegungen, Nichts) mit jeweils 16 Wiederholungen. Jede Wiederholung ist 30 Sekunden lang. Die eine Hälfte der Daten verwenden wir zum Training, die andere Hälfte verwenden wir nur einmal ganz am Ende als Test/Validierung.  \n",
    "Nachfolgend können wir uns eine Tabelle mit dem Ablauf der ersten Hälfte der Studie anschauen:"
   ]
  },
  {
   "cell_type": "code",
   "execution_count": 1,
   "metadata": {},
   "outputs": [],
   "source": [
    "import pandas as pd"
   ]
  },
  {
   "cell_type": "code",
   "execution_count": 4,
   "metadata": {
    "scrolled": true
   },
   "outputs": [
    {
     "data": {
      "text/html": [
       "<div>\n",
       "<table border=\"1\" class=\"dataframe\">\n",
       "  <thead>\n",
       "    <tr style=\"text-align: right;\">\n",
       "      <th></th>\n",
       "      <th>condition</th>\n",
       "      <th>content</th>\n",
       "    </tr>\n",
       "  </thead>\n",
       "  <tbody>\n",
       "    <tr>\n",
       "      <th>0</th>\n",
       "      <td>SPRACHE</td>\n",
       "      <td>Sprechen-Tiere</td>\n",
       "    </tr>\n",
       "    <tr>\n",
       "      <th>1</th>\n",
       "      <td>MOTORIK</td>\n",
       "      <td>Haende-Jonglieren</td>\n",
       "    </tr>\n",
       "    <tr>\n",
       "      <th>2</th>\n",
       "      <td>GESICHTER</td>\n",
       "      <td>Bekannt-Freunde</td>\n",
       "    </tr>\n",
       "    <tr>\n",
       "      <th>3</th>\n",
       "      <td>EMOTION</td>\n",
       "      <td>Negativ-Sturm</td>\n",
       "    </tr>\n",
       "    <tr>\n",
       "      <th>4</th>\n",
       "      <td>RUHE</td>\n",
       "      <td>Ruhe</td>\n",
       "    </tr>\n",
       "    <tr>\n",
       "      <th>5</th>\n",
       "      <td>MOTORIK</td>\n",
       "      <td>Fuesse-Balltreten</td>\n",
       "    </tr>\n",
       "    <tr>\n",
       "      <th>6</th>\n",
       "      <td>EMOTION</td>\n",
       "      <td>Positiv-Wald</td>\n",
       "    </tr>\n",
       "    <tr>\n",
       "      <th>7</th>\n",
       "      <td>GESICHTER</td>\n",
       "      <td>Beruehmt-Filmschauspieler</td>\n",
       "    </tr>\n",
       "    <tr>\n",
       "      <th>8</th>\n",
       "      <td>SPRACHE</td>\n",
       "      <td>Schreiben-Lebensmittel</td>\n",
       "    </tr>\n",
       "    <tr>\n",
       "      <th>9</th>\n",
       "      <td>RUHE</td>\n",
       "      <td>Ruhe</td>\n",
       "    </tr>\n",
       "    <tr>\n",
       "      <th>10</th>\n",
       "      <td>GESICHTER</td>\n",
       "      <td>Bekannt-Familie</td>\n",
       "    </tr>\n",
       "    <tr>\n",
       "      <th>11</th>\n",
       "      <td>MOTORIK</td>\n",
       "      <td>Haende-Kanu</td>\n",
       "    </tr>\n",
       "    <tr>\n",
       "      <th>12</th>\n",
       "      <td>EMOTION</td>\n",
       "      <td>Negativ-Klippe</td>\n",
       "    </tr>\n",
       "    <tr>\n",
       "      <th>13</th>\n",
       "      <td>SPRACHE</td>\n",
       "      <td>Sprechen-Staedte</td>\n",
       "    </tr>\n",
       "    <tr>\n",
       "      <th>14</th>\n",
       "      <td>RUHE</td>\n",
       "      <td>Ruhe</td>\n",
       "    </tr>\n",
       "    <tr>\n",
       "      <th>15</th>\n",
       "      <td>EMOTION</td>\n",
       "      <td>Positiv-Strand</td>\n",
       "    </tr>\n",
       "    <tr>\n",
       "      <th>16</th>\n",
       "      <td>GESICHTER</td>\n",
       "      <td>Beruehmt-Musiker</td>\n",
       "    </tr>\n",
       "    <tr>\n",
       "      <th>17</th>\n",
       "      <td>MOTORIK</td>\n",
       "      <td>Fuesse-Fahrrad</td>\n",
       "    </tr>\n",
       "    <tr>\n",
       "      <th>18</th>\n",
       "      <td>SPRACHE</td>\n",
       "      <td>Schreiben-Vornamen</td>\n",
       "    </tr>\n",
       "    <tr>\n",
       "      <th>19</th>\n",
       "      <td>RUHE</td>\n",
       "      <td>Ruhe</td>\n",
       "    </tr>\n",
       "    <tr>\n",
       "      <th>0</th>\n",
       "      <td>MOTORIK</td>\n",
       "      <td>Haende-Boxen</td>\n",
       "    </tr>\n",
       "    <tr>\n",
       "      <th>1</th>\n",
       "      <td>GESICHTER</td>\n",
       "      <td>Bekannt-Kommilitonen</td>\n",
       "    </tr>\n",
       "    <tr>\n",
       "      <th>2</th>\n",
       "      <td>SPRACHE</td>\n",
       "      <td>Sprechen-Lebensmittel</td>\n",
       "    </tr>\n",
       "    <tr>\n",
       "      <th>3</th>\n",
       "      <td>EMOTION</td>\n",
       "      <td>Negativ-Waldbrand</td>\n",
       "    </tr>\n",
       "    <tr>\n",
       "      <th>4</th>\n",
       "      <td>RUHE</td>\n",
       "      <td>Ruhe</td>\n",
       "    </tr>\n",
       "    <tr>\n",
       "      <th>5</th>\n",
       "      <td>GESICHTER</td>\n",
       "      <td>Beruehmt-Serienschauspieler</td>\n",
       "    </tr>\n",
       "    <tr>\n",
       "      <th>6</th>\n",
       "      <td>SPRACHE</td>\n",
       "      <td>Schreiben-Tiere</td>\n",
       "    </tr>\n",
       "    <tr>\n",
       "      <th>7</th>\n",
       "      <td>MOTORIK</td>\n",
       "      <td>Fuesse-Hochseil</td>\n",
       "    </tr>\n",
       "    <tr>\n",
       "      <th>8</th>\n",
       "      <td>EMOTION</td>\n",
       "      <td>Positiv-See</td>\n",
       "    </tr>\n",
       "    <tr>\n",
       "      <th>9</th>\n",
       "      <td>RUHE</td>\n",
       "      <td>Ruhe</td>\n",
       "    </tr>\n",
       "    <tr>\n",
       "      <th>10</th>\n",
       "      <td>SPRACHE</td>\n",
       "      <td>Sprechen-Vornamen</td>\n",
       "    </tr>\n",
       "    <tr>\n",
       "      <th>11</th>\n",
       "      <td>GESICHTER</td>\n",
       "      <td>Bekannt-Schulfreunde</td>\n",
       "    </tr>\n",
       "    <tr>\n",
       "      <th>12</th>\n",
       "      <td>EMOTION</td>\n",
       "      <td>Negativ-Strand</td>\n",
       "    </tr>\n",
       "    <tr>\n",
       "      <th>13</th>\n",
       "      <td>MOTORIK</td>\n",
       "      <td>Haende-Ballwerfen</td>\n",
       "    </tr>\n",
       "    <tr>\n",
       "      <th>14</th>\n",
       "      <td>RUHE</td>\n",
       "      <td>Ruhe</td>\n",
       "    </tr>\n",
       "    <tr>\n",
       "      <th>15</th>\n",
       "      <td>EMOTION</td>\n",
       "      <td>Positiv-Berg</td>\n",
       "    </tr>\n",
       "    <tr>\n",
       "      <th>16</th>\n",
       "      <td>SPRACHE</td>\n",
       "      <td>Schreiben-Staedte</td>\n",
       "    </tr>\n",
       "    <tr>\n",
       "      <th>17</th>\n",
       "      <td>GESICHTER</td>\n",
       "      <td>Beruehmt-Sportler</td>\n",
       "    </tr>\n",
       "    <tr>\n",
       "      <th>18</th>\n",
       "      <td>MOTORIK</td>\n",
       "      <td>Fuesse-Trampolin</td>\n",
       "    </tr>\n",
       "    <tr>\n",
       "      <th>19</th>\n",
       "      <td>RUHE</td>\n",
       "      <td>Ruhe</td>\n",
       "    </tr>\n",
       "  </tbody>\n",
       "</table>\n",
       "</div>"
      ],
      "text/plain": [
       "    condition                      content\n",
       "0     SPRACHE               Sprechen-Tiere\n",
       "1     MOTORIK            Haende-Jonglieren\n",
       "2   GESICHTER              Bekannt-Freunde\n",
       "3     EMOTION                Negativ-Sturm\n",
       "4        RUHE                         Ruhe\n",
       "5     MOTORIK            Fuesse-Balltreten\n",
       "6     EMOTION                 Positiv-Wald\n",
       "7   GESICHTER    Beruehmt-Filmschauspieler\n",
       "8     SPRACHE       Schreiben-Lebensmittel\n",
       "9        RUHE                         Ruhe\n",
       "10  GESICHTER              Bekannt-Familie\n",
       "11    MOTORIK                  Haende-Kanu\n",
       "12    EMOTION               Negativ-Klippe\n",
       "13    SPRACHE             Sprechen-Staedte\n",
       "14       RUHE                         Ruhe\n",
       "15    EMOTION               Positiv-Strand\n",
       "16  GESICHTER             Beruehmt-Musiker\n",
       "17    MOTORIK               Fuesse-Fahrrad\n",
       "18    SPRACHE           Schreiben-Vornamen\n",
       "19       RUHE                         Ruhe\n",
       "0     MOTORIK                 Haende-Boxen\n",
       "1   GESICHTER         Bekannt-Kommilitonen\n",
       "2     SPRACHE        Sprechen-Lebensmittel\n",
       "3     EMOTION            Negativ-Waldbrand\n",
       "4        RUHE                         Ruhe\n",
       "5   GESICHTER  Beruehmt-Serienschauspieler\n",
       "6     SPRACHE              Schreiben-Tiere\n",
       "7     MOTORIK              Fuesse-Hochseil\n",
       "8     EMOTION                  Positiv-See\n",
       "9        RUHE                         Ruhe\n",
       "10    SPRACHE            Sprechen-Vornamen\n",
       "11  GESICHTER         Bekannt-Schulfreunde\n",
       "12    EMOTION               Negativ-Strand\n",
       "13    MOTORIK            Haende-Ballwerfen\n",
       "14       RUHE                         Ruhe\n",
       "15    EMOTION                 Positiv-Berg\n",
       "16    SPRACHE            Schreiben-Staedte\n",
       "17  GESICHTER            Beruehmt-Sportler\n",
       "18    MOTORIK             Fuesse-Trampolin\n",
       "19       RUHE                         Ruhe"
      ]
     },
     "execution_count": 4,
     "metadata": {},
     "output_type": "execute_result"
    }
   ],
   "source": [
    "pd.concat([pd.read_csv('../data/run001.csv'),\n",
    "           pd.read_csv('../data/run002.csv')])"
   ]
  },
  {
   "cell_type": "markdown",
   "metadata": {},
   "source": [
    "Hirnkarten der typischen Aktivität für jede unserer Bedingungen finden sich auf [Neurovault](https://neurovault.org/collections/TZNSQSNG/)."
   ]
  },
  {
   "cell_type": "code",
   "execution_count": 5,
   "metadata": {},
   "outputs": [
    {
     "data": {
      "text/html": [
       "\n",
       "<div id=\"NeuroVaultPapayaHolder\"><script src=\"http://neurovault.org/images/62717/js/embed\" type=\"text/javascript\" charset=\"utf-8\"></script></div>"
      ],
      "text/plain": [
       "<IPython.core.display.HTML object>"
      ]
     },
     "metadata": {},
     "output_type": "display_data"
    }
   ],
   "source": [
    "%%HTML\n",
    "\n",
    "<div id=\"NeuroVaultPapayaHolder\"><script src=\"http://neurovault.org/images/62717/js/embed\" type=\"text/javascript\" charset=\"utf-8\"></script></div>"
   ]
  },
  {
   "cell_type": "markdown",
   "metadata": {},
   "source": [
    "### Literatur zum Einstieg\n",
    "\n",
    "\n",
    "Abraham, A., Pedregosa, F., Eickenberg, M., Gervais, P., Muller, A., Kossaifi, J., ... & Varoquaux, G. (2014). [Machine learning for neuroimaging with scikit-learn.](http://journal.frontiersin.org/article/10.3389/fninf.2014.00014/full) Front. Neuroinform., 10.3389/fninf.2014.00014\n",
    "\n",
    "Bzdok, D. (2016). [Classical statistics and statistical learning in imaging neuroscience](https://arxiv.org/pdf/1603.01857.pdf). arXiv preprint arXiv:1603.01857.\n",
    "\n",
    "Cohen, J. D., Daw, N., Engelhardt, B., Hasson, U., Li, K., Niv, Y., ... & Willke, T. L. (2017). [Computational approaches to fMRI analysis](http://www.princeton.edu/~nivlab/papers/CohenEtAl2017.pdf). Nature Neuroscience, 20(3), 304-313.\n",
    "\n",
    "Haxby, J. V., Connolly, A. C., & Guntupalli, J. S. (2014). [Decoding neural representational spaces using multivariate pattern analysis](https://pdfs.semanticscholar.org/14da/79324e0f22e34dd8987f7f50d8a0a740c8c3.pdf). Annual review of neuroscience, 37, 435-456.\n",
    "\n",
    "\n",
    "Resnick, B. (2017). [Brain activity is too complicated for humans to decipher. Machines can decode it for us.](http://www.vox.com/science-and-health/2016/12/29/13967966/machine-learning-neuroscience) vox.com Jan 12, 2017, 11:18am EST \n",
    "\n",
    "Shen, H. (2014). [Interactive notebooks: Sharing the code](https://www.iris.edu/hq/files/agendas/2015/usarray_15/PythonNotebooks-Nature.pdf). Nature, 515(7525), 151."
   ]
  }
 ],
 "metadata": {
  "kernelspec": {
   "display_name": "Python 2",
   "language": "python",
   "name": "python2"
  },
  "language_info": {
   "codemirror_mode": {
    "name": "ipython",
    "version": 2
   },
   "file_extension": ".py",
   "mimetype": "text/x-python",
   "name": "python",
   "nbconvert_exporter": "python",
   "pygments_lexer": "ipython2",
   "version": "2.7.14"
  }
 },
 "nbformat": 4,
 "nbformat_minor": 1
}
